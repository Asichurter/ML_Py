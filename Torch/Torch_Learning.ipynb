{
 "cells": [
  {
   "cell_type": "code",
   "execution_count": null,
   "metadata": {},
   "outputs": [],
   "source": [
    "import torch as t\n",
    "from torch.autograd import Variable\n",
    "\n",
    "a = Variable(t.randn(3,4))\n",
    "b = Variable(t.randn(3,4))"
   ]
  },
  {
   "cell_type": "code",
   "execution_count": 13,
   "metadata": {},
   "outputs": [
    {
     "name": "stdout",
     "output_type": "stream",
     "text": [
      "tensor([[-0.2298,  1.8780,  0.9769, -1.3086],\n",
      "        [-0.0697, -2.1719, -4.4787, -0.1577],\n",
      "        [-0.0551,  2.1034, -1.0063, -0.8065]])\n",
      "tensor([[-0.7257,  0.8540,  0.8830, -0.9073],\n",
      "        [ 0.5716, -1.0424, -2.2145,  0.8847],\n",
      "        [-1.1928,  1.0227,  0.2849,  0.1086]])\n",
      "tensor([[-0.2298,  1.8780,  0.9769, -1.3086],\n",
      "        [-0.0697, -2.1719, -4.4787, -0.1577],\n",
      "        [-0.0551,  2.1034, -1.0063, -0.8065]])\r",
      "tensor([[-0.7257,  0.8540,  0.8830, -0.9073],\n",
      "        [ 0.5716, -1.0424, -2.2145,  0.8847],\n",
      "        [-1.1928,  1.0227,  0.2849,  0.1086]])\n"
     ]
    }
   ],
   "source": [
    "print(a,b,sep='\\n')\n",
    "a.add(b)\n",
    "print(a,b,sep='\\r')"
   ]
  },
  {
   "cell_type": "markdown",
   "metadata": {},
   "source": []
  }
 ],
 "metadata": {
  "kernelspec": {
   "display_name": "Python 3",
   "language": "python",
   "name": "python3"
  },
  "language_info": {
   "codemirror_mode": {
    "name": "ipython",
    "version": 3
   },
   "file_extension": ".py",
   "mimetype": "text/x-python",
   "name": "python",
   "nbconvert_exporter": "python",
   "pygments_lexer": "ipython3",
   "version": "3.6.5"
  }
 },
 "nbformat": 4,
 "nbformat_minor": 2
}
